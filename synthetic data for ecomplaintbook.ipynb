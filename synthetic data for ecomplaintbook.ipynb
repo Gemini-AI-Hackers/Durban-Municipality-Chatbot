{
 "cells": [
  {
   "cell_type": "code",
   "execution_count": 1,
   "id": "f772f2cc",
   "metadata": {},
   "outputs": [],
   "source": [
    "import pandas as pd\n",
    "import numpy as np\n",
    "from faker import Faker\n",
    "\n"
   ]
  },
  {
   "cell_type": "code",
   "execution_count": 2,
   "id": "d73b341b",
   "metadata": {},
   "outputs": [
    {
     "name": "stdout",
     "output_type": "stream",
     "text": [
      "Requirement already satisfied: faker in c:\\users\\user\\anaconda3\\anaconda 5\\lib\\site-packages (26.0.0)Note: you may need to restart the kernel to use updated packages.\n",
      "\n",
      "Requirement already satisfied: python-dateutil>=2.4 in c:\\users\\user\\anaconda3\\anaconda 5\\lib\\site-packages (from faker) (2.8.2)\n",
      "Requirement already satisfied: six>=1.5 in c:\\users\\user\\anaconda3\\anaconda 5\\lib\\site-packages (from python-dateutil>=2.4->faker) (1.16.0)\n"
     ]
    }
   ],
   "source": [
    "pip install faker\n"
   ]
  },
  {
   "cell_type": "code",
   "execution_count": 3,
   "id": "f7f049f0",
   "metadata": {},
   "outputs": [],
   "source": [
    "# Initialize the Faker object\n",
    "fake = Faker()\n"
   ]
  },
  {
   "cell_type": "code",
   "execution_count": 4,
   "id": "c8eda4ab",
   "metadata": {},
   "outputs": [],
   "source": [
    "# Define the number of synthetic complaints to generate\n",
    "num_complaints = 1000"
   ]
  },
  {
   "cell_type": "code",
   "execution_count": 5,
   "id": "6d95d54d",
   "metadata": {},
   "outputs": [],
   "source": [
    "# Generate synthetic complaint data\n",
    "data = {\n",
    "    'complaint_id': [f'C{i:04d}' for i in range(1, num_complaints + 1)],\n",
    "    'customer_name': [fake.name() for _ in range(num_complaints)],\n",
    "    'customer_email': [fake.email() for _ in range(num_complaints)],\n",
    "    'complaint_category': np.random.choice(['Product', 'Service', 'Billing'], size=num_complaints),\n",
    "    'complaint_description': [fake.paragraph(nb_sentences=3) for _ in range(num_complaints)],\n",
    "    'complaint_date': [fake.date_between(start_date='-1y', end_date='today') for _ in range(num_complaints)],\n",
    "    'resolution_status': np.random.choice(['Open', 'Closed', 'Pending'], size=num_complaints),\n",
    "    'resolution_date': [fake.date_between(start_date='-1y', end_date='today') for _ in range(num_complaints)],\n",
    "    'resolution_description': [fake.paragraph(nb_sentences=2) for _ in range(num_complaints)]\n",
    "}"
   ]
  },
  {
   "cell_type": "code",
   "execution_count": 6,
   "id": "27b0e950",
   "metadata": {},
   "outputs": [],
   "source": [
    "# Create a DataFrame from the generated data\n",
    "complaints_df = pd.DataFrame(data)\n"
   ]
  },
  {
   "cell_type": "code",
   "execution_count": 7,
   "id": "6fbc80af",
   "metadata": {},
   "outputs": [
    {
     "name": "stdout",
     "output_type": "stream",
     "text": [
      "  complaint_id     customer_name              customer_email  \\\n",
      "0        C0001      Olivia Jones        joshua20@example.net   \n",
      "1        C0002  James Morgan Jr.  oconnorsabrina@example.com   \n",
      "2        C0003   Lawrence Fields   tonyacisneros@example.net   \n",
      "3        C0004      Zachary Hall   williambranch@example.com   \n",
      "4        C0005      Mark Stewart       greenmark@example.net   \n",
      "\n",
      "  complaint_category                              complaint_description  \\\n",
      "0            Service  Sometimes again fish church describe. Daughter...   \n",
      "1            Product      Hand term value black. Type detail see avoid.   \n",
      "2            Billing  Conference marriage treat. Cup short among int...   \n",
      "3            Service           Particular rule brother building matter.   \n",
      "4            Billing  Action area bed learn might to. Several believ...   \n",
      "\n",
      "  complaint_date resolution_status resolution_date  \\\n",
      "0     2024-06-28            Closed      2024-05-24   \n",
      "1     2024-01-22            Closed      2024-04-12   \n",
      "2     2024-03-29            Closed      2024-07-10   \n",
      "3     2024-02-22            Closed      2024-03-10   \n",
      "4     2024-04-29           Pending      2024-01-21   \n",
      "\n",
      "                              resolution_description  \n",
      "0                                       Song up lay.  \n",
      "1        Consider forget such alone site recent way.  \n",
      "2         Resource think as green hour general week.  \n",
      "3  Threat through yeah nearly into budget establish.  \n",
      "4  Professional couple let land town live option....  \n"
     ]
    }
   ],
   "source": [
    "# Print the first few rows of the synthetic data\n",
    "print(complaints_df.head())"
   ]
  },
  {
   "cell_type": "code",
   "execution_count": 8,
   "id": "3be83e27",
   "metadata": {},
   "outputs": [],
   "source": [
    "complaints_df.to_csv('synthetic_complaints.csv', index=False)"
   ]
  },
  {
   "cell_type": "code",
   "execution_count": 9,
   "id": "feaef29c",
   "metadata": {},
   "outputs": [
    {
     "name": "stdout",
     "output_type": "stream",
     "text": [
      "  complaint_id     customer_name              customer_email  \\\n",
      "0        C0001      Olivia Jones        joshua20@example.net   \n",
      "1        C0002  James Morgan Jr.  oconnorsabrina@example.com   \n",
      "2        C0003   Lawrence Fields   tonyacisneros@example.net   \n",
      "3        C0004      Zachary Hall   williambranch@example.com   \n",
      "4        C0005      Mark Stewart       greenmark@example.net   \n",
      "\n",
      "  complaint_category                              complaint_description  \\\n",
      "0            Service  Sometimes again fish church describe. Daughter...   \n",
      "1            Product      Hand term value black. Type detail see avoid.   \n",
      "2            Billing  Conference marriage treat. Cup short among int...   \n",
      "3            Service           Particular rule brother building matter.   \n",
      "4            Billing  Action area bed learn might to. Several believ...   \n",
      "\n",
      "  complaint_date resolution_status resolution_date  \\\n",
      "0     2024-06-28            Closed      2024-05-24   \n",
      "1     2024-01-22            Closed      2024-04-12   \n",
      "2     2024-03-29            Closed      2024-07-10   \n",
      "3     2024-02-22            Closed      2024-03-10   \n",
      "4     2024-04-29           Pending      2024-01-21   \n",
      "\n",
      "                              resolution_description  \n",
      "0                                       Song up lay.  \n",
      "1        Consider forget such alone site recent way.  \n",
      "2         Resource think as green hour general week.  \n",
      "3  Threat through yeah nearly into budget establish.  \n",
      "4  Professional couple let land town live option....  \n"
     ]
    }
   ],
   "source": [
    "import pandas as pd\n",
    "\n",
    "# Read the CSV file into a DataFrame\n",
    "complaints_df = pd.read_csv('synthetic_complaints.csv')\n",
    "\n",
    "# Print the first few rows of the DataFrame\n",
    "print(complaints_df.head())"
   ]
  },
  {
   "cell_type": "code",
   "execution_count": 10,
   "id": "b561bfcd",
   "metadata": {},
   "outputs": [
    {
     "name": "stdout",
     "output_type": "stream",
     "text": [
      "    complaint_id     customer_name              customer_email  \\\n",
      "0          C0001      Olivia Jones        joshua20@example.net   \n",
      "1          C0002  James Morgan Jr.  oconnorsabrina@example.com   \n",
      "2          C0003   Lawrence Fields   tonyacisneros@example.net   \n",
      "3          C0004      Zachary Hall   williambranch@example.com   \n",
      "4          C0005      Mark Stewart       greenmark@example.net   \n",
      "..           ...               ...                         ...   \n",
      "995        C0996    Nichole Durham        leebrown@example.net   \n",
      "996        C0997     Anna Robinson          nwoods@example.com   \n",
      "997        C0998    Travis Coleman          sdavis@example.com   \n",
      "998        C0999     Charles Brown    martinezkyle@example.com   \n",
      "999        C1000  Michelle Bernard        draymond@example.org   \n",
      "\n",
      "    complaint_category                              complaint_description  \\\n",
      "0              Service  Sometimes again fish church describe. Daughter...   \n",
      "1              Product      Hand term value black. Type detail see avoid.   \n",
      "2              Billing  Conference marriage treat. Cup short among int...   \n",
      "3              Service           Particular rule brother building matter.   \n",
      "4              Billing  Action area bed learn might to. Several believ...   \n",
      "..                 ...                                                ...   \n",
      "995            Product  Should something bag north. For international ...   \n",
      "996            Billing  Small else base front debate head night likely...   \n",
      "997            Billing  Finish size air real possible she. Hotel rich ...   \n",
      "998            Product             Which receive region arrive operation.   \n",
      "999            Product  Live three onto TV senior than difference wife...   \n",
      "\n",
      "    complaint_date resolution_status resolution_date  \\\n",
      "0       2024-06-28            Closed      2024-05-24   \n",
      "1       2024-01-22            Closed      2024-04-12   \n",
      "2       2024-03-29            Closed      2024-07-10   \n",
      "3       2024-02-22            Closed      2024-03-10   \n",
      "4       2024-04-29           Pending      2024-01-21   \n",
      "..             ...               ...             ...   \n",
      "995     2024-04-17            Closed      2024-02-21   \n",
      "996     2024-01-19           Pending      2024-05-03   \n",
      "997     2023-08-16              Open      2023-09-12   \n",
      "998     2024-04-06              Open      2024-03-14   \n",
      "999     2024-01-14              Open      2024-03-31   \n",
      "\n",
      "                                resolution_description  \n",
      "0                                         Song up lay.  \n",
      "1          Consider forget such alone site recent way.  \n",
      "2           Resource think as green hour general week.  \n",
      "3    Threat through yeah nearly into budget establish.  \n",
      "4    Professional couple let land town live option....  \n",
      "..                                                 ...  \n",
      "995  Clear natural already collection watch try. Co...  \n",
      "996  Table lose article detail figure action rememb...  \n",
      "997        Pass like gas including close develop book.  \n",
      "998                  Actually media management toward.  \n",
      "999  Key total individual keep action language. App...  \n",
      "\n",
      "[1000 rows x 9 columns]\n"
     ]
    }
   ],
   "source": [
    "print(complaints_df)"
   ]
  },
  {
   "cell_type": "code",
   "execution_count": 11,
   "id": "1b08f1db",
   "metadata": {},
   "outputs": [
    {
     "name": "stdout",
     "output_type": "stream",
     "text": [
      "        customer_name                              complaint_description\n",
      "0        Olivia Jones  Sometimes again fish church describe. Daughter...\n",
      "1    James Morgan Jr.      Hand term value black. Type detail see avoid.\n",
      "2     Lawrence Fields  Conference marriage treat. Cup short among int...\n",
      "3        Zachary Hall           Particular rule brother building matter.\n",
      "4        Mark Stewart  Action area bed learn might to. Several believ...\n",
      "..                ...                                                ...\n",
      "995    Nichole Durham  Should something bag north. For international ...\n",
      "996     Anna Robinson  Small else base front debate head night likely...\n",
      "997    Travis Coleman  Finish size air real possible she. Hotel rich ...\n",
      "998     Charles Brown             Which receive region arrive operation.\n",
      "999  Michelle Bernard  Live three onto TV senior than difference wife...\n",
      "\n",
      "[1000 rows x 2 columns]\n"
     ]
    }
   ],
   "source": [
    "print(complaints_df[['customer_name','complaint_description']])"
   ]
  },
  {
   "cell_type": "code",
   "execution_count": 12,
   "id": "7ad8a9f5",
   "metadata": {},
   "outputs": [],
   "source": [
    "filtered_df = complaints_df[complaints_df['resolution_status'] == 'Closed']"
   ]
  },
  {
   "cell_type": "code",
   "execution_count": 13,
   "id": "7f440b57",
   "metadata": {},
   "outputs": [
    {
     "name": "stdout",
     "output_type": "stream",
     "text": [
      "2023-07-29 2024-07-28\n"
     ]
    }
   ],
   "source": [
    "print(complaints_df['complaint_date'].min(), complaints_df['complaint_date'].max())"
   ]
  },
  {
   "cell_type": "code",
   "execution_count": 14,
   "id": "fe2882b2",
   "metadata": {},
   "outputs": [],
   "source": [
    "complaints_df.to_excel('synthetic_complaints.xlsx', index=False)"
   ]
  },
  {
   "cell_type": "code",
   "execution_count": 15,
   "id": "cbca0d34",
   "metadata": {},
   "outputs": [
    {
     "name": "stdout",
     "output_type": "stream",
     "text": [
      "Requirement already satisfied: firebase_admin in c:\\users\\user\\anaconda3\\anaconda 5\\lib\\site-packages (6.5.0)\n",
      "Requirement already satisfied: cachecontrol>=0.12.6 in c:\\users\\user\\anaconda3\\anaconda 5\\lib\\site-packages (from firebase_admin) (0.14.0)\n",
      "Requirement already satisfied: google-api-python-client>=1.7.8 in c:\\users\\user\\anaconda3\\anaconda 5\\lib\\site-packages (from firebase_admin) (2.137.0)\n",
      "Requirement already satisfied: google-cloud-storage>=1.37.1 in c:\\users\\user\\anaconda3\\anaconda 5\\lib\\site-packages (from firebase_admin) (2.17.0)\n",
      "Requirement already satisfied: pyjwt[crypto]>=2.5.0 in c:\\users\\user\\anaconda3\\anaconda 5\\lib\\site-packages (from firebase_admin) (2.8.0)\n",
      "Requirement already satisfied: google-api-core[grpc]<3.0.0dev,>=1.22.1 in c:\\users\\user\\anaconda3\\anaconda 5\\lib\\site-packages (from firebase_admin) (2.19.1)\n",
      "Requirement already satisfied: google-cloud-firestore>=2.9.1 in c:\\users\\user\\anaconda3\\anaconda 5\\lib\\site-packages (from firebase_admin) (2.17.0)\n",
      "Requirement already satisfied: requests>=2.16.0 in c:\\users\\user\\anaconda3\\anaconda 5\\lib\\site-packages (from cachecontrol>=0.12.6->firebase_admin) (2.31.0)\n",
      "Requirement already satisfied: msgpack<2.0.0,>=0.5.2 in c:\\users\\user\\anaconda3\\anaconda 5\\lib\\site-packages (from cachecontrol>=0.12.6->firebase_admin) (1.0.3)\n",
      "Requirement already satisfied: googleapis-common-protos<2.0.dev0,>=1.56.2 in c:\\users\\user\\anaconda3\\anaconda 5\\lib\\site-packages (from google-api-core[grpc]<3.0.0dev,>=1.22.1->firebase_admin) (1.63.2)\n",
      "Requirement already satisfied: protobuf!=3.20.0,!=3.20.1,!=4.21.0,!=4.21.1,!=4.21.2,!=4.21.3,!=4.21.4,!=4.21.5,<6.0.0.dev0,>=3.19.5 in c:\\users\\user\\anaconda3\\anaconda 5\\lib\\site-packages (from google-api-core[grpc]<3.0.0dev,>=1.22.1->firebase_admin) (4.25.3)\n",
      "Requirement already satisfied: proto-plus<2.0.0dev,>=1.22.3 in c:\\users\\user\\anaconda3\\anaconda 5\\lib\\site-packages (from google-api-core[grpc]<3.0.0dev,>=1.22.1->firebase_admin) (1.24.0)\n",
      "Requirement already satisfied: google-auth<3.0.dev0,>=2.14.1 in c:\\users\\user\\anaconda3\\anaconda 5\\lib\\site-packages (from google-api-core[grpc]<3.0.0dev,>=1.22.1->firebase_admin) (2.32.0)\n",
      "Requirement already satisfied: grpcio<2.0dev,>=1.33.2 in c:\\users\\user\\anaconda3\\anaconda 5\\lib\\site-packages (from google-api-core[grpc]<3.0.0dev,>=1.22.1->firebase_admin) (1.64.1)\n",
      "Requirement already satisfied: grpcio-status<2.0.dev0,>=1.33.2 in c:\\users\\user\\anaconda3\\anaconda 5\\lib\\site-packages (from google-api-core[grpc]<3.0.0dev,>=1.22.1->firebase_admin) (1.62.2)\n",
      "Requirement already satisfied: httplib2<1.dev0,>=0.19.0 in c:\\users\\user\\anaconda3\\anaconda 5\\lib\\site-packages (from google-api-python-client>=1.7.8->firebase_admin) (0.22.0)\n",
      "Requirement already satisfied: google-auth-httplib2<1.0.0,>=0.2.0 in c:\\users\\user\\anaconda3\\anaconda 5\\lib\\site-packages (from google-api-python-client>=1.7.8->firebase_admin) (0.2.0)\n",
      "Requirement already satisfied: uritemplate<5,>=3.0.1 in c:\\users\\user\\anaconda3\\anaconda 5\\lib\\site-packages (from google-api-python-client>=1.7.8->firebase_admin) (4.1.1)\n",
      "Requirement already satisfied: google-cloud-core<3.0.0dev,>=1.4.1 in c:\\users\\user\\anaconda3\\anaconda 5\\lib\\site-packages (from google-cloud-firestore>=2.9.1->firebase_admin) (2.4.1)\n",
      "Requirement already satisfied: google-resumable-media>=2.6.0 in c:\\users\\user\\anaconda3\\anaconda 5\\lib\\site-packages (from google-cloud-storage>=1.37.1->firebase_admin) (2.7.1)\n",
      "Requirement already satisfied: google-crc32c<2.0dev,>=1.0 in c:\\users\\user\\anaconda3\\anaconda 5\\lib\\site-packages (from google-cloud-storage>=1.37.1->firebase_admin) (1.5.0)\n",
      "Requirement already satisfied: cryptography>=3.4.0 in c:\\users\\user\\anaconda3\\anaconda 5\\lib\\site-packages (from pyjwt[crypto]>=2.5.0->firebase_admin) (41.0.3)\n",
      "Requirement already satisfied: cffi>=1.12 in c:\\users\\user\\anaconda3\\anaconda 5\\lib\\site-packages (from cryptography>=3.4.0->pyjwt[crypto]>=2.5.0->firebase_admin) (1.15.1)\n",
      "Requirement already satisfied: cachetools<6.0,>=2.0.0 in c:\\users\\user\\anaconda3\\anaconda 5\\lib\\site-packages (from google-auth<3.0.dev0,>=2.14.1->google-api-core[grpc]<3.0.0dev,>=1.22.1->firebase_admin) (5.4.0)\n",
      "Requirement already satisfied: pyasn1-modules>=0.2.1 in c:\\users\\user\\anaconda3\\anaconda 5\\lib\\site-packages (from google-auth<3.0.dev0,>=2.14.1->google-api-core[grpc]<3.0.0dev,>=1.22.1->firebase_admin) (0.2.8)\n",
      "Requirement already satisfied: rsa<5,>=3.1.4 in c:\\users\\user\\anaconda3\\anaconda 5\\lib\\site-packages (from google-auth<3.0.dev0,>=2.14.1->google-api-core[grpc]<3.0.0dev,>=1.22.1->firebase_admin) (4.9)\n",
      "Requirement already satisfied: pyparsing!=3.0.0,!=3.0.1,!=3.0.2,!=3.0.3,<4,>=2.4.2 in c:\\users\\user\\anaconda3\\anaconda 5\\lib\\site-packages (from httplib2<1.dev0,>=0.19.0->google-api-python-client>=1.7.8->firebase_admin) (3.0.9)\n",
      "Requirement already satisfied: charset-normalizer<4,>=2 in c:\\users\\user\\anaconda3\\anaconda 5\\lib\\site-packages (from requests>=2.16.0->cachecontrol>=0.12.6->firebase_admin) (2.0.4)\n",
      "Requirement already satisfied: idna<4,>=2.5 in c:\\users\\user\\anaconda3\\anaconda 5\\lib\\site-packages (from requests>=2.16.0->cachecontrol>=0.12.6->firebase_admin) (3.4)\n",
      "Requirement already satisfied: urllib3<3,>=1.21.1 in c:\\users\\user\\anaconda3\\anaconda 5\\lib\\site-packages (from requests>=2.16.0->cachecontrol>=0.12.6->firebase_admin) (1.26.16)\n",
      "Requirement already satisfied: certifi>=2017.4.17 in c:\\users\\user\\anaconda3\\anaconda 5\\lib\\site-packages (from requests>=2.16.0->cachecontrol>=0.12.6->firebase_admin) (2023.7.22)\n",
      "Requirement already satisfied: pycparser in c:\\users\\user\\anaconda3\\anaconda 5\\lib\\site-packages (from cffi>=1.12->cryptography>=3.4.0->pyjwt[crypto]>=2.5.0->firebase_admin) (2.21)\n",
      "Requirement already satisfied: pyasn1<0.5.0,>=0.4.6 in c:\\users\\user\\anaconda3\\anaconda 5\\lib\\site-packages (from pyasn1-modules>=0.2.1->google-auth<3.0.dev0,>=2.14.1->google-api-core[grpc]<3.0.0dev,>=1.22.1->firebase_admin) (0.4.8)\n",
      "Note: you may need to restart the kernel to use updated packages.\n"
     ]
    }
   ],
   "source": [
    "pip install firebase_admin"
   ]
  },
  {
   "cell_type": "code",
   "execution_count": 16,
   "id": "df51741f",
   "metadata": {},
   "outputs": [],
   "source": [
    "import firebase_admin\n",
    "from firebase_admin import credentials\n",
    "from firebase_admin import firestore\n"
   ]
  },
  {
   "cell_type": "code",
   "execution_count": 17,
   "id": "db2e462c",
   "metadata": {},
   "outputs": [],
   "source": [
    "cred = credentials.Certificate(r\"C:\\Users\\User\\Downloads\\ecomplaintbook-firebase-adminsdk-4q5bo-b7ae07f5f7.json\")"
   ]
  },
  {
   "cell_type": "code",
   "execution_count": 18,
   "id": "92f0a82a",
   "metadata": {},
   "outputs": [],
   "source": [
    "default_app = firebase_admin.initialize_app(cred, {\n",
    "    'projectId': 'ecomplaintbook',\n",
    "})\n"
   ]
  },
  {
   "cell_type": "code",
   "execution_count": 19,
   "id": "faf410ae",
   "metadata": {},
   "outputs": [],
   "source": [
    "# Get a reference to the Firestore database\n",
    "db = firestore.client()\n"
   ]
  },
  {
   "cell_type": "code",
   "execution_count": 20,
   "id": "53632f48",
   "metadata": {},
   "outputs": [],
   "source": [
    "\n",
    "for _, row in complaints_df.iterrows():\n",
    "    data = {\n",
    "        'customer_name': row['customer_name'],\n",
    "        'complaint_description': row['complaint_description'],\n",
    "        'complaint_date': row['complaint_date'],\n",
    "        'resolution_status': row['resolution_status']\n",
    "    }"
   ]
  },
  {
   "cell_type": "code",
   "execution_count": 21,
   "id": "f870bbf4",
   "metadata": {},
   "outputs": [
    {
     "name": "stdout",
     "output_type": "stream",
     "text": [
      "Document created for Michelle Bernard\n"
     ]
    }
   ],
   "source": [
    "try:\n",
    "    db.collection('complaints').document(row['customer_name']).set(data)\n",
    "    print(f\"Document created for {row['customer_name']}\")\n",
    "except Exception as e:\n",
    "    print(f\"Error writing document for {row['customer_name']}: {e}\")"
   ]
  },
  {
   "cell_type": "code",
   "execution_count": null,
   "id": "cf375ca1",
   "metadata": {},
   "outputs": [],
   "source": []
  }
 ],
 "metadata": {
  "kernelspec": {
   "display_name": "Python 3 (ipykernel)",
   "language": "python",
   "name": "python3"
  },
  "language_info": {
   "codemirror_mode": {
    "name": "ipython",
    "version": 3
   },
   "file_extension": ".py",
   "mimetype": "text/x-python",
   "name": "python",
   "nbconvert_exporter": "python",
   "pygments_lexer": "ipython3",
   "version": "3.11.5"
  }
 },
 "nbformat": 4,
 "nbformat_minor": 5
}
